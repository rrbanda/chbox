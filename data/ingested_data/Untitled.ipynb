{
 "cells": [
  {
   "cell_type": "code",
   "execution_count": 3,
   "id": "949d6475-d1bd-4621-857b-f24f42fca666",
   "metadata": {},
   "outputs": [
    {
     "name": "stdout",
     "output_type": "stream",
     "text": [
      "Error: 501 - Not Implemented\n"
     ]
    }
   ],
   "source": [
    "# Load the model from the endpoint\n",
    "response = requests.get(model_endpoint)\n",
    "\n",
    "# Check if the request was successful\n",
    "if response.status_code == 200:\n",
    "    response_json = response.json()\n",
    "\n",
    "    # Print the response to inspect its structure\n",
    "    print(response_json)\n",
    "\n",
    "    # Identify the correct key containing the model's state dictionary\n",
    "    # Adjust this based on the structure of the JSON response\n",
    "    model_state_dict = response_json.get(\"model_state_dict\")\n",
    "\n",
    "    if model_state_dict is not None:\n",
    "        # Instantiate the model and load its state dictionary\n",
    "        model = UNet(\n",
    "            spatial_dims=3,\n",
    "            in_channels=1,\n",
    "            out_channels=2,\n",
    "            channels=(16, 32, 64, 128, 256),\n",
    "            strides=(2, 2, 2, 2),\n",
    "            num_res_units=2,\n",
    "            norm=\"batch\",\n",
    "        ).to(device)\n",
    "\n",
    "        # Load the model's state dictionary\n",
    "        model.load_state_dict(model_state_dict)\n",
    "\n",
    "        # Set the model to evaluation mode\n",
    "        model.eval()\n",
    "\n",
    "        # Perform inference using the model\n",
    "        # (Assuming test_org_loader, sliding_window_inference, decollate_batch, and post_transforms are defined elsewhere)\n",
    "        with torch.no_grad():\n",
    "            for test_data in test_org_loader:\n",
    "                test_inputs = test_data[\"image\"].to(device)\n",
    "                roi_size = (160, 160, 160)\n",
    "                sw_batch_size = 4\n",
    "                test_data[\"pred\"] = sliding_window_inference(test_inputs, roi_size, sw_batch_size, model)\n",
    "\n",
    "                test_data = [post_transforms(i) for i in decollate_batch(test_data)]\n",
    "    else:\n",
    "        print(\"No model_state_dict found in the response.\")\n",
    "else:\n",
    "    print(f\"Error: {response.status_code} - {response.reason}\")\n"
   ]
  },
  {
   "cell_type": "code",
   "execution_count": null,
   "id": "b1bbc4e7-dfdc-49b7-a1e0-1cc053d34db5",
   "metadata": {},
   "outputs": [],
   "source": []
  },
  {
   "cell_type": "code",
   "execution_count": null,
   "id": "6b7927e8-b06b-4912-bd39-a6f8be5ea832",
   "metadata": {},
   "outputs": [],
   "source": []
  }
 ],
 "metadata": {
  "kernelspec": {
   "display_name": "Python 3.9",
   "language": "python",
   "name": "python3"
  },
  "language_info": {
   "codemirror_mode": {
    "name": "ipython",
    "version": 3
   },
   "file_extension": ".py",
   "mimetype": "text/x-python",
   "name": "python",
   "nbconvert_exporter": "python",
   "pygments_lexer": "ipython3",
   "version": "3.9.16"
  }
 },
 "nbformat": 4,
 "nbformat_minor": 5
}
