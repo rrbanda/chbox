{
 "cells": [
  {
   "cell_type": "code",
   "execution_count": 4,
   "id": "8b75f6e8-4be9-4e8e-9637-df70ab622345",
   "metadata": {},
   "outputs": [
    {
     "name": "stdout",
     "output_type": "stream",
     "text": [
      "Failed to load the model. Status code: 501\n"
     ]
    }
   ],
   "source": [
    "import os\n",
    "import glob\n",
    "import torch\n",
    "import requests\n",
    "from monai.transforms import Compose, LoadImaged, EnsureChannelFirstd, Orientationd, Spacingd, ScaleIntensityRanged, CropForegroundd, Invertd, AsDiscreted, SaveImaged\n",
    "from monai.data import Dataset, DataLoader\n",
    "\n",
    "# Define the directory containing the test images\n",
    "data_dir = \"/opt/app-root/src/chbox/data\"\n",
    "\n",
    "# Define the endpoint URL\n",
    "model_endpoint = \"https://spleen-spleen.apps.cluster-4r7z9.sandbox1640.opentlc.com/v2/models/spleen/infer\"\n",
    "\n",
    "# Define the device for inference\n",
    "device = torch.device(\"cuda\" if torch.cuda.is_available() else \"cpu\")\n",
    "\n",
    "# Define the transformations for test data\n",
    "test_org_transforms = Compose([\n",
    "    LoadImaged(keys=\"image\"),\n",
    "    EnsureChannelFirstd(keys=\"image\"),\n",
    "    Orientationd(keys=[\"image\"], axcodes=\"RAS\"),\n",
    "    Spacingd(keys=[\"image\"], pixdim=(1.5, 1.5, 2.0), mode=\"bilinear\"),\n",
    "    ScaleIntensityRanged(keys=[\"image\"], a_min=-57, a_max=164, b_min=0.0, b_max=1.0, clip=True),\n",
    "    CropForegroundd(keys=[\"image\"], source_key=\"image\"),\n",
    "])\n",
    "\n",
    "# Define the dataset and data loader for test data\n",
    "test_images = sorted(glob.glob(os.path.join(data_dir, \"imagesTs\", \"*.nii.gz\")))\n",
    "test_data = [{\"image\": image} for image in test_images]\n",
    "test_org_ds = Dataset(data=test_data, transform=test_org_transforms)\n",
    "test_org_loader = DataLoader(test_org_ds, batch_size=1, num_workers=4)\n",
    "\n",
    "# Load the model from the endpoint\n",
    "response = requests.get(model_endpoint)\n",
    "if response.status_code == 200:\n",
    "    model_state_dict = response.json()[\"model_state_dict\"]\n",
    "\n",
    "    # Instantiate your UNet model\n",
    "    from monai.networks.nets import UNet\n",
    "    model = UNet(\n",
    "        spatial_dims=3,\n",
    "        in_channels=1,\n",
    "        out_channels=2,  # Assuming you have 2 classes (background and foreground)\n",
    "        channels=(16, 32, 64, 128, 256),\n",
    "        strides=(2, 2, 2, 2),\n",
    "        num_res_units=2,\n",
    "        norm=\"batch\",\n",
    "    )\n",
    "\n",
    "    model.load_state_dict(model_state_dict)\n",
    "    model.to(device)\n",
    "    model.eval()\n",
    "\n",
    "    # Define the post-processing transformations\n",
    "    post_transforms = Compose([\n",
    "        Invertd(keys=\"pred\", transform=test_org_transforms, orig_keys=\"image\", meta_keys=\"pred_meta_dict\", orig_meta_keys=\"image_meta_dict\", meta_key_postfix=\"meta_dict\", nearest_interp=False, to_tensor=True),\n",
    "        AsDiscreted(keys=\"pred\", argmax=True, to_onehot=2),\n",
    "        SaveImaged(keys=\"pred\", meta_keys=\"pred_meta_dict\", output_dir=\"./out\", output_postfix=\"seg\", resample=False),\n",
    "    ])\n",
    "\n",
    "    # Perform inference using the model\n",
    "    with torch.no_grad():\n",
    "        for test_data in test_org_loader:\n",
    "            test_inputs = test_data[\"image\"].to(device)\n",
    "            roi_size = (160, 160, 160)\n",
    "            sw_batch_size = 4\n",
    "            test_data[\"pred\"] = sliding_window_inference(test_inputs, roi_size, sw_batch_size, model)\n",
    "\n",
    "            test_data = [post_transforms(i) for i in decollate_batch(test_data)]\n",
    "else:\n",
    "    print(f\"Failed to load the model. Status code: {response.status_code}\")\n"
   ]
  },
  {
   "cell_type": "code",
   "execution_count": null,
   "id": "1c3185d8-f30b-4e84-8a03-baa18a72d51d",
   "metadata": {},
   "outputs": [],
   "source": []
  }
 ],
 "metadata": {
  "kernelspec": {
   "display_name": "Python 3.9",
   "language": "python",
   "name": "python3"
  },
  "language_info": {
   "codemirror_mode": {
    "name": "ipython",
    "version": 3
   },
   "file_extension": ".py",
   "mimetype": "text/x-python",
   "name": "python",
   "nbconvert_exporter": "python",
   "pygments_lexer": "ipython3",
   "version": "3.9.16"
  }
 },
 "nbformat": 4,
 "nbformat_minor": 5
}
