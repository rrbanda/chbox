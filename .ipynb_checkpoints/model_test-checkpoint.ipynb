{
 "cells": [
  {
   "cell_type": "code",
   "execution_count": 1,
   "id": "2dcde4f0-8577-4371-adb8-44f299efaf58",
   "metadata": {
    "tags": []
   },
   "outputs": [
    {
     "name": "stdout",
     "output_type": "stream",
     "text": [
      "Requirement already satisfied: grpcio in /opt/app-root/lib/python3.9/site-packages (1.62.1)\n",
      "Requirement already satisfied: grpcio-tools in /opt/app-root/lib/python3.9/site-packages (1.62.1)\n",
      "Requirement already satisfied: utils in /opt/app-root/lib/python3.9/site-packages (1.0.2)\n",
      "Requirement already satisfied: protobuf<5.0dev,>=4.21.6 in /opt/app-root/lib/python3.9/site-packages (from grpcio-tools) (4.25.3)\n",
      "Requirement already satisfied: setuptools in /opt/app-root/lib/python3.9/site-packages (from grpcio-tools) (68.1.2)\n",
      "\n",
      "\u001b[1m[\u001b[0m\u001b[34;49mnotice\u001b[0m\u001b[1;39;49m]\u001b[0m\u001b[39;49m A new release of pip available: \u001b[0m\u001b[31;49m22.2.2\u001b[0m\u001b[39;49m -> \u001b[0m\u001b[32;49m24.0\u001b[0m\n",
      "\u001b[1m[\u001b[0m\u001b[34;49mnotice\u001b[0m\u001b[1;39;49m]\u001b[0m\u001b[39;49m To update, run: \u001b[0m\u001b[32;49mpip install --upgrade pip\u001b[0m\n"
     ]
    }
   ],
   "source": [
    "!pip install grpcio grpcio-tools utils"
   ]
  },
  {
   "cell_type": "code",
   "execution_count": 2,
   "id": "97dcab8a-e1f0-4859-a98e-6469ffe4e0c4",
   "metadata": {
    "tags": []
   },
   "outputs": [],
   "source": [
    "grpc_host = 'modelmesh-serving'\n",
    "grpc_port = 8033\n",
    "model_name = 'brain'"
   ]
  },
  {
   "cell_type": "code",
   "execution_count": 3,
   "id": "495b8cc8-f211-46f8-b9ed-2e09e2927820",
   "metadata": {
    "tags": []
   },
   "outputs": [
    {
     "data": {
      "text/plain": [
       "name: \"brain__isvc-5e9ed04c1f\"\n",
       "versions: \"1\"\n",
       "platform: \"tensorflow_savedmodel\"\n",
       "inputs {\n",
       "  name: \"input_6\"\n",
       "  datatype: \"FP32\"\n",
       "  shape: -1\n",
       "  shape: 128\n",
       "  shape: 128\n",
       "  shape: 128\n",
       "  shape: 3\n",
       "}\n",
       "outputs {\n",
       "  name: \"activation_51\"\n",
       "  datatype: \"FP32\"\n",
       "  shape: -1\n",
       "  shape: 128\n",
       "  shape: 128\n",
       "  shape: 128\n",
       "  shape: 4\n",
       "}"
      ]
     },
     "execution_count": 3,
     "metadata": {},
     "output_type": "execute_result"
    }
   ],
   "source": [
    "import sys\n",
    "sys.path.append('./utils')\n",
    "\n",
    "# grpc_predict_v2_pb2 and grpc_predict_v2_pb2_grpc were created from grpc_predict_v2.proto using protoc\n",
    "import grpc\n",
    "import utils.grpc_predict_v2_pb2 as grpc_predict_v2_pb2\n",
    "import utils.grpc_predict_v2_pb2_grpc as grpc_predict_v2_pb2_grpc\n",
    "\n",
    "\n",
    "channel = grpc.insecure_channel(f\"{grpc_host}:{grpc_port}\")\n",
    "stub = grpc_predict_v2_pb2_grpc.GRPCInferenceServiceStub(channel)\n",
    "\n",
    "request = grpc_predict_v2_pb2.ModelMetadataRequest(name=model_name)\n",
    "response = stub.ModelMetadata(request)\n",
    "response"
   ]
  },
  {
   "cell_type": "code",
   "execution_count": null,
   "id": "27f1f3c3-9241-4128-be0d-8015896e33ea",
   "metadata": {},
   "outputs": [],
   "source": []
  }
 ],
 "metadata": {
  "kernelspec": {
   "display_name": "Python 3.9",
   "language": "python",
   "name": "python3"
  },
  "language_info": {
   "codemirror_mode": {
    "name": "ipython",
    "version": 3
   },
   "file_extension": ".py",
   "mimetype": "text/x-python",
   "name": "python",
   "nbconvert_exporter": "python",
   "pygments_lexer": "ipython3",
   "version": "3.9.18"
  }
 },
 "nbformat": 4,
 "nbformat_minor": 5
}
