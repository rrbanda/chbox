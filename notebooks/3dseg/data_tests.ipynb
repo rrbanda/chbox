{
 "cells": [
  {
   "cell_type": "code",
   "execution_count": null,
   "id": "9230373b-8b86-48bb-9f49-0a4613d2109e",
   "metadata": {},
   "outputs": [],
   "source": [
    "import numpy as np\n",
    "\n",
    "loaded_array = np.load('data.npy')\n",
    "print(loaded_array.shape)\n",
    "print(loaded_array.dtype)"
   ]
  }
 ],
 "metadata": {
  "kernelspec": {
   "display_name": "Python 3.9",
   "language": "python",
   "name": "python3"
  },
  "language_info": {
   "codemirror_mode": {
    "name": "ipython",
    "version": 3
   },
   "file_extension": ".py",
   "mimetype": "text/x-python",
   "name": "python",
   "nbconvert_exporter": "python",
   "pygments_lexer": "ipython3",
   "version": "3.9.18"
  }
 },
 "nbformat": 4,
 "nbformat_minor": 5
}
