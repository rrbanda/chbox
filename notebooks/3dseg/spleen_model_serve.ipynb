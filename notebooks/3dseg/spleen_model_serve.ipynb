{
 "cells": [
  {
   "cell_type": "code",
   "execution_count": 1,
   "id": "2dcde4f0-8577-4371-adb8-44f299efaf58",
   "metadata": {
    "tags": []
   },
   "outputs": [
    {
     "name": "stdout",
     "output_type": "stream",
     "text": [
      "Requirement already satisfied: grpcio in /opt/app-root/lib/python3.9/site-packages (1.56.0)\n",
      "Requirement already satisfied: grpcio-tools in /opt/app-root/lib/python3.9/site-packages (1.33.2)\n",
      "Requirement already satisfied: utils in /opt/app-root/lib/python3.9/site-packages (1.0.2)\n",
      "Requirement already satisfied: protobuf<4.0dev,>=3.5.0.post1 in /opt/app-root/lib/python3.9/site-packages (from grpcio-tools) (3.20.3)\n",
      "\n",
      "\u001b[1m[\u001b[0m\u001b[34;49mnotice\u001b[0m\u001b[1;39;49m]\u001b[0m\u001b[39;49m A new release of pip available: \u001b[0m\u001b[31;49m22.2.2\u001b[0m\u001b[39;49m -> \u001b[0m\u001b[32;49m24.0\u001b[0m\n",
      "\u001b[1m[\u001b[0m\u001b[34;49mnotice\u001b[0m\u001b[1;39;49m]\u001b[0m\u001b[39;49m To update, run: \u001b[0m\u001b[32;49mpip install --upgrade pip\u001b[0m\n",
      "grpcio                          1.56.0\n",
      "grpcio-tools                    1.33.2\n",
      "protobuf                        3.20.3\n",
      "\n",
      "\u001b[1m[\u001b[0m\u001b[34;49mnotice\u001b[0m\u001b[1;39;49m]\u001b[0m\u001b[39;49m A new release of pip available: \u001b[0m\u001b[31;49m22.2.2\u001b[0m\u001b[39;49m -> \u001b[0m\u001b[32;49m24.0\u001b[0m\n",
      "\u001b[1m[\u001b[0m\u001b[34;49mnotice\u001b[0m\u001b[1;39;49m]\u001b[0m\u001b[39;49m To update, run: \u001b[0m\u001b[32;49mpip install --upgrade pip\u001b[0m\n",
      "Requirement already satisfied: grpcio==1.56.0 in /opt/app-root/lib/python3.9/site-packages (1.56.0)\n",
      "Requirement already satisfied: grpcio-tools==1.33.2 in /opt/app-root/lib/python3.9/site-packages (1.33.2)\n",
      "Requirement already satisfied: protobuf==3.20.3 in /opt/app-root/lib/python3.9/site-packages (3.20.3)\n",
      "\n",
      "\u001b[1m[\u001b[0m\u001b[34;49mnotice\u001b[0m\u001b[1;39;49m]\u001b[0m\u001b[39;49m A new release of pip available: \u001b[0m\u001b[31;49m22.2.2\u001b[0m\u001b[39;49m -> \u001b[0m\u001b[32;49m24.0\u001b[0m\n",
      "\u001b[1m[\u001b[0m\u001b[34;49mnotice\u001b[0m\u001b[1;39;49m]\u001b[0m\u001b[39;49m To update, run: \u001b[0m\u001b[32;49mpip install --upgrade pip\u001b[0m\n",
      "grpcio                          1.56.0\n",
      "grpcio-tools                    1.33.2\n",
      "protobuf                        3.20.3\n",
      "\n",
      "\u001b[1m[\u001b[0m\u001b[34;49mnotice\u001b[0m\u001b[1;39;49m]\u001b[0m\u001b[39;49m A new release of pip available: \u001b[0m\u001b[31;49m22.2.2\u001b[0m\u001b[39;49m -> \u001b[0m\u001b[32;49m24.0\u001b[0m\n",
      "\u001b[1m[\u001b[0m\u001b[34;49mnotice\u001b[0m\u001b[1;39;49m]\u001b[0m\u001b[39;49m To update, run: \u001b[0m\u001b[32;49mpip install --upgrade pip\u001b[0m\n"
     ]
    }
   ],
   "source": [
    "!pip install grpcio grpcio-tools utils\n",
    "!pip list | grep -e grpcio -e protobuf\n",
    "!pip install grpcio==1.56.0 grpcio-tools==1.33.2 protobuf==3.20.3\n",
    "!pip list | grep -e grpcio -e protobuf"
   ]
  },
  {
   "cell_type": "code",
   "execution_count": 2,
   "id": "97dcab8a-e1f0-4859-a98e-6469ffe4e0c4",
   "metadata": {
    "tags": []
   },
   "outputs": [],
   "source": [
    "grpc_host = 'modelmesh-serving'\n",
    "grpc_port = 8033\n",
    "model_name = 'spleenv4'\n",
    "unet_model_name = 'spleenv4'"
   ]
  },
  {
   "cell_type": "code",
   "execution_count": 3,
   "id": "495b8cc8-f211-46f8-b9ed-2e09e2927820",
   "metadata": {
    "tags": []
   },
   "outputs": [
    {
     "data": {
      "text/plain": [
       "name: \"spleenv4__isvc-9f5498d4d3\"\n",
       "versions: \"1\"\n",
       "platform: \"onnxruntime_onnx\"\n",
       "inputs {\n",
       "  name: \"modelInput\"\n",
       "  datatype: \"FP32\"\n",
       "  shape: -1\n",
       "  shape: 1\n",
       "  shape: 96\n",
       "  shape: 96\n",
       "  shape: 96\n",
       "}\n",
       "outputs {\n",
       "  name: \"modelOutput\"\n",
       "  datatype: \"FP32\"\n",
       "  shape: -1\n",
       "  shape: 2\n",
       "  shape: 96\n",
       "  shape: 96\n",
       "  shape: 96\n",
       "}"
      ]
     },
     "execution_count": 3,
     "metadata": {},
     "output_type": "execute_result"
    }
   ],
   "source": [
    "import sys\n",
    "sys.path.append('./utils')\n",
    "\n",
    "# grpc_predict_v2_pb2 and grpc_predict_v2_pb2_grpc were created from grpc_predict_v2.proto using protoc\n",
    "import grpc\n",
    "import utils.grpc_predict_v2_pb2 as grpc_predict_v2_pb2\n",
    "import utils.grpc_predict_v2_pb2_grpc as grpc_predict_v2_pb2_grpc\n",
    "\n",
    "\n",
    "channel = grpc.insecure_channel(f\"{grpc_host}:{grpc_port}\")\n",
    "stub = grpc_predict_v2_pb2_grpc.GRPCInferenceServiceStub(channel)\n",
    "\n",
    "request = grpc_predict_v2_pb2.ModelMetadataRequest(name=model_name)\n",
    "response = stub.ModelMetadata(request)\n",
    "response"
   ]
  },
  {
   "cell_type": "code",
   "execution_count": 4,
   "id": "531672e7-15e2-4803-93fc-589654daf3cb",
   "metadata": {},
   "outputs": [
    {
     "name": "stdout",
     "output_type": "stream",
     "text": [
      "name: \"spleenv4__isvc-9f5498d4d3\"\n",
      "versions: \"1\"\n",
      "platform: \"onnxruntime_onnx\"\n",
      "inputs {\n",
      "  name: \"modelInput\"\n",
      "  datatype: \"FP32\"\n",
      "  shape: -1\n",
      "  shape: 1\n",
      "  shape: 96\n",
      "  shape: 96\n",
      "  shape: 96\n",
      "}\n",
      "outputs {\n",
      "  name: \"modelOutput\"\n",
      "  datatype: \"FP32\"\n",
      "  shape: -1\n",
      "  shape: 2\n",
      "  shape: 96\n",
      "  shape: 96\n",
      "  shape: 96\n",
      "}\n",
      "\n"
     ]
    }
   ],
   "source": [
    "import grpc\n",
    "import grpc_predict_v2_pb2\n",
    "import grpc_predict_v2_pb2_grpc\n",
    "\n",
    "\n",
    "channel = grpc.insecure_channel(f\"{grpc_host}:{grpc_port}\")\n",
    "stub = grpc_predict_v2_pb2_grpc.GRPCInferenceServiceStub(channel)\n",
    "\n",
    "# request = grpc_predict_v2_pb2.ModelMetadataRequest(name=textencoder_model_name)\n",
    "# response = stub.ModelMetadata(request)\n",
    "# print(response)\n",
    "\n",
    "request = grpc_predict_v2_pb2.ModelMetadataRequest(name=unet_model_name)\n",
    "response = stub.ModelMetadata(request)\n",
    "print(response)"
   ]
  },
  {
   "cell_type": "code",
   "execution_count": 4,
   "id": "1463ea17-149e-48d4-8f62-d4d9f356cd08",
   "metadata": {},
   "outputs": [
    {
     "name": "stdout",
     "output_type": "stream",
     "text": [
      "Final Prediction: []\n"
     ]
    }
   ],
   "source": [
    "import numpy as np\n",
    "import grpc\n",
    "import utils.grpc_predict_v2_pb2 as grpc_predict_v2_pb2\n",
    "import utils.grpc_predict_v2_pb2_grpc as grpc_predict_v2_pb2_grpc\n",
    "\n",
    "# gRPC host and port\n",
    "grpc_host = 'modelmesh-serving'\n",
    "grpc_port = 8033\n",
    "\n",
    "# Model name\n",
    "model_name = 'spleenv4'\n",
    "\n",
    "# Create gRPC channel\n",
    "channel = grpc.insecure_channel(f\"{grpc_host}:{grpc_port}\")\n",
    "stub = grpc_predict_v2_pb2_grpc.GRPCInferenceServiceStub(channel)\n",
    "\n",
    "# Sample data\n",
    "sample_data = np.random.rand(1, 96, 96, 96).astype(np.float32)  # Generate random sample data\n",
    "\n",
    "def grpc_request(data):\n",
    "    # Create input tensor\n",
    "    input_tensor = grpc_predict_v2_pb2.ModelInferRequest().InferInputTensor()\n",
    "    input_tensor.name = \"modelInput\"\n",
    "    input_tensor.datatype = \"FP32\"\n",
    "    input_tensor.shape.extend([-1, 1, 96, 96, 96])\n",
    "    input_tensor.contents.fp32_contents.extend(data.flatten().tolist())  # Flatten the data\n",
    "\n",
    "    # Create request\n",
    "    request = grpc_predict_v2_pb2.ModelInferRequest()\n",
    "    request.model_name = model_name\n",
    "    request.inputs.extend([input_tensor])\n",
    "\n",
    "    # Make gRPC call\n",
    "    response = stub.ModelInfer(request)\n",
    "    \n",
    "    # Parse response\n",
    "    result_arr = np.frombuffer(response.raw_output_contents[0], dtype=np.float32)\n",
    "    \n",
    "    return result_arr\n",
    "\n",
    "# Split the sample data into smaller batches\n",
    "batch_size = 4\n",
    "num_batches = sample_data.shape[0] // batch_size\n",
    "predictions = []\n",
    "for i in range(num_batches):\n",
    "    start_idx = i * batch_size\n",
    "    end_idx = start_idx + batch_size\n",
    "    batch_data = sample_data[start_idx:end_idx]\n",
    "    prediction = grpc_request(batch_data)\n",
    "    predictions.append(prediction)\n",
    "\n",
    "# Concatenate predictions from all batches if predictions were made\n",
    "final_prediction = np.concatenate(predictions) if predictions else np.array([])\n",
    "\n",
    "# Print the final prediction\n",
    "print(\"Final Prediction:\", final_prediction)\n"
   ]
  },
  {
   "cell_type": "code",
   "execution_count": null,
   "id": "01e4bacb-1f37-4ab1-a9ea-d38b806e627a",
   "metadata": {},
   "outputs": [],
   "source": []
  }
 ],
 "metadata": {
  "kernelspec": {
   "display_name": "Python 3.9",
   "language": "python",
   "name": "python3"
  },
  "language_info": {
   "codemirror_mode": {
    "name": "ipython",
    "version": 3
   },
   "file_extension": ".py",
   "mimetype": "text/x-python",
   "name": "python",
   "nbconvert_exporter": "python",
   "pygments_lexer": "ipython3",
   "version": "3.9.16"
  }
 },
 "nbformat": 4,
 "nbformat_minor": 5
}
