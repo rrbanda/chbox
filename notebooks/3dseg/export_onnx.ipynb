{
 "cells": [
  {
   "cell_type": "code",
   "execution_count": 7,
   "id": "3c5190c3-0930-4a41-b4fd-35adf4d4ebaf",
   "metadata": {},
   "outputs": [
    {
     "name": "stdout",
     "output_type": "stream",
     "text": [
      "Model has been converted to ONNX and saved at: /tmp/tmpk9rec3f2/models/spleen_3d_seg.onnx\n"
     ]
    }
   ],
   "source": [
    "import os\n",
    "import torch\n",
    "from os.path import join\n",
    "from monai.networks.nets import UNet\n",
    "\n",
    "# Define the model architecture\n",
    "device = torch.device(\"cuda\" if torch.cuda.is_available() else \"cpu\")\n",
    "model = UNet(\n",
    "    spatial_dims=3,\n",
    "    in_channels=1,\n",
    "    out_channels=2,\n",
    "    channels=(16, 32, 64, 128, 256),\n",
    "    strides=(2, 2, 2, 2),\n",
    "    num_res_units=2,\n",
    "    norm=\"batch\",\n",
    ").to(device)\n",
    "\n",
    "# Function to Convert to ONNX \n",
    "def Convert_ONNX(): \n",
    "    root_dir = \"/tmp/tmpk9rec3f2\"  # Specify the root directory\n",
    "    onnx_dir = join(root_dir, \"models\")  # Directory where you want to save the ONNX model\n",
    "    os.makedirs(onnx_dir, exist_ok=True)  # Create the directory if it doesn't exist\n",
    "    \n",
    "    # set the model to inference mode \n",
    "    model.load_state_dict(torch.load(os.path.join(root_dir, \"best_metric_model.pth\")))\n",
    "    model.eval() \n",
    "\n",
    "    # Export the model   \n",
    "    onnx_file_path = join(onnx_dir, \"spleen_3d_seg.onnx\")\n",
    "    with open(onnx_file_path, \"wb\") as f:\n",
    "        torch.onnx.export(\n",
    "            model,                                   # model being run \n",
    "            torch.randn(1, 1, 64, 64, 64).to(device),# dummy input\n",
    "            f,                                       # file object to save the model\n",
    "            export_params=True,                      # store the trained parameter weights inside the model file \n",
    "            opset_version=10,                        # the ONNX version to export the model to \n",
    "            do_constant_folding=True,                # whether to execute constant folding for optimization \n",
    "            input_names=['modelInput'],             # the model's input names \n",
    "            output_names=['modelOutput'],           # the model's output names \n",
    "            dynamic_axes={'modelInput': {0: 'batch_size'}, 'modelOutput': {0: 'batch_size'}} # variable length axes \n",
    "        ) \n",
    "\n",
    "    print(f\"Model has been converted to ONNX and saved at: {onnx_file_path}\")\n",
    "\n",
    "# Call the function to convert the model to ONNX\n",
    "Convert_ONNX()\n"
   ]
  },
  {
   "cell_type": "code",
   "execution_count": 8,
   "id": "3790b7d6-69a5-4cd8-81a1-b984a51340f2",
   "metadata": {},
   "outputs": [
    {
     "name": "stdout",
     "output_type": "stream",
     "text": [
      "total 18804\n",
      "drwx------. 4 1001050000 root      118 Mar 28 22:27 \u001b[0m\u001b[01;34m..\u001b[0m/\n",
      "drwxr-xr-x. 2 1001050000 root       32 Mar 28 23:57 \u001b[01;34m.\u001b[0m/\n",
      "-rw-r--r--. 1 1001050000 root 19251671 Mar 29 00:12 spleen_3d_seg.onnx\n"
     ]
    }
   ],
   "source": [
    "ls -lart /tmp/tmp5dukrc1e/models/"
   ]
  },
  {
   "cell_type": "code",
   "execution_count": null,
   "id": "bcc809e8-d3ed-4212-aaa6-284f1799ddf2",
   "metadata": {},
   "outputs": [],
   "source": []
  }
 ],
 "metadata": {
  "kernelspec": {
   "display_name": "Python 3.9",
   "language": "python",
   "name": "python3"
  },
  "language_info": {
   "codemirror_mode": {
    "name": "ipython",
    "version": 3
   },
   "file_extension": ".py",
   "mimetype": "text/x-python",
   "name": "python",
   "nbconvert_exporter": "python",
   "pygments_lexer": "ipython3",
   "version": "3.9.18"
  }
 },
 "nbformat": 4,
 "nbformat_minor": 5
}
