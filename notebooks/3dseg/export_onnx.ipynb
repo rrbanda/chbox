{
 "cells": [
  {
   "cell_type": "code",
   "execution_count": 1,
   "id": "3c5190c3-0930-4a41-b4fd-35adf4d4ebaf",
   "metadata": {},
   "outputs": [
    {
     "name": "stdout",
     "output_type": "stream",
     "text": [
      "============= Diagnostic Run torch.onnx.export version 2.0.1+cu118 =============\n",
      "verbose: False, log level: Level.ERROR\n",
      "======================= 0 NONE 0 NOTE 0 WARNING 0 ERROR ========================\n",
      "\n",
      "Model has been converted to ONNX and saved at: /tmp/tmpw_jhlhgy/models/spleen_3d_seg.onnx\n"
     ]
    }
   ],
   "source": [
    "import os\n",
    "import torch\n",
    "from os.path import join\n",
    "from monai.networks.nets import UNet\n",
    "\n",
    "# Define the model architecture\n",
    "device = torch.device(\"cuda\" if torch.cuda.is_available() else \"cpu\")\n",
    "model = UNet(\n",
    "    spatial_dims=3,\n",
    "    in_channels=1,\n",
    "    out_channels=2,\n",
    "    channels=(16, 32, 64, 128, 256),\n",
    "    strides=(2, 2, 2, 2),\n",
    "    num_res_units=2,\n",
    "    norm=\"batch\",\n",
    ").to(device)\n",
    "\n",
    "# Function to Convert to ONNX \n",
    "def Convert_ONNX(): \n",
    "    root_dir = \"/tmp/tmpw_jhlhgy\"  # Specify the root directory\n",
    "    onnx_dir = join(root_dir, \"models\")  # Directory where you want to save the ONNX model\n",
    "    os.makedirs(onnx_dir, exist_ok=True)  # Create the directory if it doesn't exist\n",
    "    \n",
    "    # set the model to inference mode \n",
    "    model.load_state_dict(torch.load(os.path.join(root_dir, \"best_metric_model.pth\")))\n",
    "    model.eval() \n",
    "    \n",
    "    import numpy as np\n",
    "\n",
    "    loaded_array = np.load('data.npy')\n",
    "    dummy = torch.from_numpy(loaded_array).to(device)\n",
    "\n",
    "    # Export the model   \n",
    "    onnx_file_path = join(onnx_dir, \"spleen_3d_seg.onnx\")\n",
    "    with open(onnx_file_path, \"wb\") as f:\n",
    "        torch.onnx.export(\n",
    "            model,                                   # model being run \n",
    "            dummy,\n",
    "            #torch.randn(1, 1, 160, 160, 160).to(device),# dummy input\n",
    "            f,                                       # file object to save the model\n",
    "            #export_params=True,                      # store the trained parameter weights inside the model file \n",
    "            #opset_version=10,                        # the ONNX version to export the model to \n",
    "            #do_constant_folding=True,                # whether to execute constant folding for optimization \n",
    "            #input_names=['modelInput'],             # the model's input names \n",
    "            #output_names=['modelOutput'],           # the model's output names \n",
    "            #dynamic_axes={'modelInput': {0: 'batch_size'}, 'modelOutput': {0: 'batch_size'}} # variable length axes \n",
    "        ) \n",
    "\n",
    "    print(f\"Model has been converted to ONNX and saved at: {onnx_file_path}\")\n",
    "\n",
    "# Call the function to convert the model to ONNX\n",
    "Convert_ONNX()\n"
   ]
  },
  {
   "cell_type": "code",
   "execution_count": 2,
   "id": "bcc809e8-d3ed-4212-aaa6-284f1799ddf2",
   "metadata": {},
   "outputs": [],
   "source": [
    "cp /tmp/tmpw_jhlhgy/models/spleen_3d_seg.onnx ."
   ]
  },
  {
   "cell_type": "code",
   "execution_count": 3,
   "id": "99f38d4e-84ef-4d54-9fcf-7304dd5b4e81",
   "metadata": {
    "tags": []
   },
   "outputs": [
    {
     "ename": "SyntaxError",
     "evalue": "unexpected EOF while parsing (719351615.py, line 10)",
     "output_type": "error",
     "traceback": [
      "\u001b[0;36m  Cell \u001b[0;32mIn[3], line 10\u001b[0;36m\u001b[0m\n\u001b[0;31m    y_pred = np.where(y_pred_temp > threshold, 1,0\u001b[0m\n\u001b[0m                                                  ^\u001b[0m\n\u001b[0;31mSyntaxError\u001b[0m\u001b[0;31m:\u001b[0m unexpected EOF while parsing\n"
     ]
    }
   ],
   "source": [
    "import onnxruntime as rt\n",
    "\n",
    "\n",
    "sess = rt.InferenceSession(\"spleen_3d_seg.onnx\", providers=rt.get_available_providers())\n",
    "input_name = sess.get_inputs()[0].name\n",
    "output_name = sess.get_outputs()[0].name\n",
    "y_pred_temp = sess.run([output_name], {input_name: scaler.transform(X_test.values).astype(np.float32)}) \n",
    "y_pred_temp = np.asarray(np.squeeze(y_pred_temp[0]))\n",
    "threshold = 0.995\n",
    "y_pred = np.where(y_pred_temp > threshold, 1,0)"
   ]
  },
  {
   "cell_type": "code",
   "execution_count": null,
   "id": "2e396595-3f4e-4137-85dd-255137a76b70",
   "metadata": {},
   "outputs": [],
   "source": []
  }
 ],
 "metadata": {
  "kernelspec": {
   "display_name": "Python 3.9",
   "language": "python",
   "name": "python3"
  },
  "language_info": {
   "codemirror_mode": {
    "name": "ipython",
    "version": 3
   },
   "file_extension": ".py",
   "mimetype": "text/x-python",
   "name": "python",
   "nbconvert_exporter": "python",
   "pygments_lexer": "ipython3",
   "version": "3.9.18"
  }
 },
 "nbformat": 4,
 "nbformat_minor": 5
}
